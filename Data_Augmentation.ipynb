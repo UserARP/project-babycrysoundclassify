{
 "cells": [
  {
   "cell_type": "code",
   "execution_count": 1,
   "metadata": {},
   "outputs": [
    {
     "name": "stderr",
     "output_type": "stream",
     "text": [
      "Using TensorFlow backend.\n"
     ]
    }
   ],
   "source": [
    "import librosa\n",
    "import librosa.display\n",
    "import os\n",
    "from sklearn.model_selection import train_test_split\n",
    "from keras.utils import to_categorical\n",
    "import numpy as np\n",
    "import matplotlib.pyplot as plt\n",
    "import os\n",
    "import tensorflow as tf"
   ]
  },
  {
   "cell_type": "code",
   "execution_count": 5,
   "metadata": {},
   "outputs": [],
   "source": [
    "DATA_PATH = 'C:/Users/ppeng/Documents/AI_babyclassified/donateacry_corpus_cleaned_and_updated_data/'"
   ]
  },
  {
   "cell_type": "code",
   "execution_count": 6,
   "metadata": {},
   "outputs": [],
   "source": [
    "def get_labels(path=DATA_PATH):\n",
    "    labels = os.listdir(path)\n",
    "    label_indices = np.arange(0, len(labels))\n",
    "    return labels, label_indices, to_categorical(label_indices)"
   ]
  },
  {
   "cell_type": "code",
   "execution_count": null,
   "metadata": {},
   "outputs": [],
   "source": [
    "##Data augmentation##"
   ]
  },
  {
   "cell_type": "code",
   "execution_count": null,
   "metadata": {},
   "outputs": [],
   "source": [
    "rate = 0.89\n",
    "rate_2 = 0.94\n",
    "n_steps = 2\n",
    "n_steps_2 = 2.5\n",
    "labels, _, _ = get_labels(DATA_PATH)\n",
    "labels.remove('not crying(other voices)') #เนื่องจากมีเสียงเยอะอยู่แล้ว\n",
    "labels.remove('discomfort') #เนื่องจากมีเสียงเยอะอยู่แล้วเช่นกัน\n",
    "labels.remove('belly_pain')\n",
    "labels.remove('tired')\n",
    "data = {}\n",
    "for label in labels:\n",
    "    data[label] = {}\n",
    "    data[label]['path'] = [DATA_PATH  + label + '/' +  wavfile for wavfile in os.listdir(DATA_PATH + '/' + label)]\n",
    "    for wavfile in data[label]['path']:\n",
    "        y, sr = librosa.load(wavfile , duration = 4.97)  \n",
    "        y_changed_vt = librosa.effects.time_stretch(y, rate=rate)\n",
    "        y_changed_vt_2 = librosa.effects.time_stretch(y, rate=rate_2)\n",
    "        y_changed_vp = librosa.effects.pitch_shift(y, sr, n_steps=n_steps)\n",
    "        y_changed_vp25 = librosa.effects.pitch_shift(y, sr, n_steps=n_steps_2)\n",
    "        librosa.output.write_wav(wavfile + '_VT89.wav' ,y_changed_vt, sr) ## 1.vary time ##\n",
    "        librosa.output.write_wav(wavfile + '_VT93.wav' ,y_changed_vt_2, sr)\n",
    "        librosa.output.write_wav(wavfile + '_VP.wav' ,y_changed_vp, sr) ## 2.vary pitch 2##\n",
    "        librosa.output.write_wav(wavfile + '_VP25.wav' ,y_changed_vp25, sr) ## 3.Change pitch 2.5##"
   ]
  },
  {
   "cell_type": "code",
   "execution_count": 5,
   "metadata": {},
   "outputs": [
    {
     "name": "stdout",
     "output_type": "stream",
     "text": [
      "['belly_pain', 'burping', 'discomfort', 'tired']\n"
     ]
    }
   ],
   "source": []
  },
  {
   "cell_type": "code",
   "execution_count": null,
   "metadata": {},
   "outputs": [],
   "source": []
  }
 ],
 "metadata": {
  "kernelspec": {
   "display_name": "Python 3",
   "language": "python",
   "name": "python3"
  },
  "language_info": {
   "codemirror_mode": {
    "name": "ipython",
    "version": 3
   },
   "file_extension": ".py",
   "mimetype": "text/x-python",
   "name": "python",
   "nbconvert_exporter": "python",
   "pygments_lexer": "ipython3",
   "version": "3.7.5"
  }
 },
 "nbformat": 4,
 "nbformat_minor": 2
}
