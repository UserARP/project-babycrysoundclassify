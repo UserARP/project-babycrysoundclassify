{
 "cells": [
  {
   "cell_type": "code",
   "execution_count": 1,
   "metadata": {},
   "outputs": [
    {
     "name": "stderr",
     "output_type": "stream",
     "text": [
      "Using TensorFlow backend.\n"
     ]
    }
   ],
   "source": [
    "import librosa\n",
    "import librosa.display\n",
    "import os\n",
    "from sklearn.model_selection import train_test_split\n",
    "from keras.utils import to_categorical\n",
    "import numpy as np"
   ]
  },
  {
   "cell_type": "code",
   "execution_count": 2,
   "metadata": {},
   "outputs": [],
   "source": [
    "import keras\n",
    "from keras.models import Sequential\n",
    "from keras.layers import Dense, Dropout, Flatten, Conv2D, MaxPooling2D, LSTM\n",
    "from keras.utils import to_categorical\n",
    "import matplotlib.pyplot as plt\n",
    "import os\n",
    "import tensorflow as tf"
   ]
  },
  {
   "cell_type": "code",
   "execution_count": 3,
   "metadata": {},
   "outputs": [],
   "source": [
    "DATA_PATH = 'C:/Users/ppeng/Documents/AI_babyclassified/donateacry_corpus_cleaned_and_updated_data/'"
   ]
  },
  {
   "cell_type": "code",
   "execution_count": 4,
   "metadata": {},
   "outputs": [],
   "source": [
    "def get_labels(path=DATA_PATH):\n",
    "    labels = os.listdir(path)\n",
    "    label_indices = np.arange(0, len(labels))\n",
    "    return labels, label_indices, to_categorical(label_indices)\n"
   ]
  },
  {
   "cell_type": "code",
   "execution_count": 5,
   "metadata": {},
   "outputs": [
    {
     "name": "stdout",
     "output_type": "stream",
     "text": [
      "['animal', 'belly_pain', 'burping', 'discomfort', 'Exteriorurban noises', 'Human, non-speech sounds', 'hungry', 'Interiordomestic sounds', 'Natural soundscapes & water sounds', 'tired']\n"
     ]
    }
   ],
   "source": [
    "labels, _, _ = get_labels(DATA_PATH)\n",
    "data = {}\n",
    "for label in labels:\n",
    "      data[label] = {}\n",
    "      data[label]['path'] = [DATA_PATH  + label + '/' +  wavfile for wavfile in os.listdir(DATA_PATH + '/' + label)]\n",
    "      D = []\n",
    "      for wavfile in data[label]['path']:\n",
    "        y, sr = librosa.load(wavfile , duration = 4.97)  \n",
    "        ps = librosa.feature.melspectrogram(y=y, sr=sr)\n",
    "        D.append(ps)\n",
    "      data[label]['melspec'] = D\n",
    "print(labels)"
   ]
  },
  {
   "cell_type": "code",
   "execution_count": 6,
   "metadata": {},
   "outputs": [
    {
     "name": "stdout",
     "output_type": "stream",
     "text": [
      "['animal', 'belly_pain', 'burping', 'discomfort', 'Exteriorurban noises', 'Human, non-speech sounds', 'hungry', 'Interiordomestic sounds', 'Natural soundscapes & water sounds', 'tired']\n",
      "10\n"
     ]
    }
   ],
   "source": [
    "print(labels)\n",
    "print(len(labels))"
   ]
  },
  {
   "cell_type": "code",
   "execution_count": 7,
   "metadata": {},
   "outputs": [
    {
     "name": "stdout",
     "output_type": "stream",
     "text": [
      "Number of samples:  4841\n"
     ]
    }
   ],
   "source": [
    "Data = []\n",
    "for key in data:\n",
    "    \n",
    "      for melspec in data[key]['melspec']:\n",
    "            Data.append((key,melspec))\n",
    "data[key]['melspec'] = Data\n",
    "print(\"Number of samples: \", len(Data))"
   ]
  },
  {
   "cell_type": "code",
   "execution_count": 8,
   "metadata": {},
   "outputs": [
    {
     "name": "stdout",
     "output_type": "stream",
     "text": [
      "Number of samples:  4841\n"
     ]
    }
   ],
   "source": [
    "import random\n",
    "print(\"Number of samples: \", len(Data))\n",
    "random.shuffle(Data)\n",
    "\n",
    "train = Data[:3100]\n",
    "test = Data[3100:]\n",
    "\n",
    "y_train, X_train = zip(*train)\n",
    "y_test, X_test = zip(*test)"
   ]
  },
  {
   "cell_type": "code",
   "execution_count": 9,
   "metadata": {},
   "outputs": [],
   "source": [
    "from sklearn.preprocessing import LabelEncoder\n",
    "label_encoder = LabelEncoder()\n",
    "\n",
    "X_train_T = np.array([x.reshape( (128, 215, 1) ) for x in X_train])\n",
    "X_test_T = np.array([x.reshape( (128, 215, 1) ) for x in X_test])\n",
    "\n",
    "y_train_T = np.array(keras.utils.to_categorical(label_encoder.fit_transform(np.array(y_train)),10))\n",
    "y_test_T = np.array(keras.utils.to_categorical(label_encoder.fit_transform(np.array(y_test)),10))\n"
   ]
  },
  {
   "cell_type": "code",
   "execution_count": 47,
   "metadata": {},
   "outputs": [],
   "source": [
    "from keras.layers import BatchNormalization\n",
    "model = Sequential()\n",
    "input_shapeP=(128, 215, 1)\n",
    "model.add(Conv2D(24,(5,5),strides=(1,1),input_shape=input_shapeP, activation='relu'))\n",
    "model.add(MaxPooling2D((4, 2),strides=(4,2)))\n",
    "\n",
    "model.add(Conv2D(48,(5,5),padding='valid', activation='relu'))\n",
    "model.add(BatchNormalization())\n",
    "model.add(MaxPooling2D((4, 2),strides=(4,2)))\n",
    "\n",
    "model.add(Conv2D(48,(5,5),padding='valid', activation='relu'))\n",
    "\n",
    "model.add(Flatten())\n",
    "model.add(Dropout(0.50))\n",
    "model.add(Dense(64,activation='relu'))\n",
    "model.add(Dropout(0.50))\n",
    "model.add(Dense(10,activation='softmax'))"
   ]
  },
  {
   "cell_type": "code",
   "execution_count": 48,
   "metadata": {},
   "outputs": [],
   "source": [
    "model.compile(loss=\"categorical_crossentropy\",\n",
    "                  optimizer=\"adam\",\n",
    "                  metrics=['accuracy'])"
   ]
  },
  {
   "cell_type": "code",
   "execution_count": 69,
   "metadata": {},
   "outputs": [
    {
     "name": "stdout",
     "output_type": "stream",
     "text": [
      "Train on 3100 samples, validate on 1741 samples\n",
      "Epoch 1/12\n",
      "3100/3100 [==============================] - 4s 1ms/step - loss: 0.8638 - accuracy: 0.6787 - val_loss: 1.6409 - val_accuracy: 0.6427\n",
      "Epoch 2/12\n",
      "3100/3100 [==============================] - 4s 1ms/step - loss: 0.9443 - accuracy: 0.6484 - val_loss: 1.7559 - val_accuracy: 0.6169\n",
      "Epoch 3/12\n",
      "3100/3100 [==============================] - 4s 1ms/step - loss: 0.9041 - accuracy: 0.6542 - val_loss: 1.6039 - val_accuracy: 0.6232\n",
      "Epoch 4/12\n",
      "3100/3100 [==============================] - 4s 1ms/step - loss: 0.9159 - accuracy: 0.6519 - val_loss: 1.6684 - val_accuracy: 0.6232\n",
      "Epoch 5/12\n",
      "3100/3100 [==============================] - 4s 1ms/step - loss: 0.8935 - accuracy: 0.6794 - val_loss: 1.5630 - val_accuracy: 0.6025\n",
      "Epoch 6/12\n",
      "3100/3100 [==============================] - 4s 1ms/step - loss: 0.8453 - accuracy: 0.6894 - val_loss: 1.8459 - val_accuracy: 0.6272\n",
      "Epoch 7/12\n",
      "3100/3100 [==============================] - 4s 1ms/step - loss: 0.8119 - accuracy: 0.6832 - val_loss: 1.5313 - val_accuracy: 0.6278\n",
      "Epoch 8/12\n",
      "3100/3100 [==============================] - 4s 1ms/step - loss: 0.7845 - accuracy: 0.6987 - val_loss: 1.6904 - val_accuracy: 0.6284\n",
      "Epoch 9/12\n",
      "3100/3100 [==============================] - 4s 1ms/step - loss: 0.7611 - accuracy: 0.7029 - val_loss: 1.6857 - val_accuracy: 0.6462\n",
      "Epoch 10/12\n",
      "3100/3100 [==============================] - 4s 1ms/step - loss: 0.7511 - accuracy: 0.7116 - val_loss: 1.7044 - val_accuracy: 0.6485\n",
      "Epoch 11/12\n",
      "3100/3100 [==============================] - 4s 1ms/step - loss: 0.8223 - accuracy: 0.6958 - val_loss: 1.8217 - val_accuracy: 0.6226\n",
      "Epoch 12/12\n",
      "3100/3100 [==============================] - 4s 1ms/step - loss: 0.7984 - accuracy: 0.7032 - val_loss: 1.8070 - val_accuracy: 0.6169\n"
     ]
    },
    {
     "data": {
      "text/plain": [
       "<keras.callbacks.callbacks.History at 0x1c95b875108>"
      ]
     },
     "execution_count": 69,
     "metadata": {},
     "output_type": "execute_result"
    }
   ],
   "source": [
    "model.fit(X_train_T,y_train_T,epochs=12,batch_size=128,validation_data=(X_test_T,y_test_T))"
   ]
  },
  {
   "cell_type": "code",
   "execution_count": 70,
   "metadata": {},
   "outputs": [],
   "source": [
    "model.save('C:/Users/ppeng/Documents/AI_babyclassified/model_DataAugmented_ver42') "
   ]
  },
  {
   "cell_type": "code",
   "execution_count": 3,
   "metadata": {},
   "outputs": [],
   "source": [
    "model_ver1= keras.models.load_model('C:/Users/ppeng/Documents/AI_babyclassified/model_DataAugmented_ver21')"
   ]
  },
  {
   "cell_type": "code",
   "execution_count": 72,
   "metadata": {},
   "outputs": [
    {
     "data": {
      "text/plain": [
       "[1.8069568982006556, 0.6168868541717529]"
      ]
     },
     "execution_count": 72,
     "metadata": {},
     "output_type": "execute_result"
    }
   ],
   "source": [
    "model_ver1.evaluate(X_test_T, y_test_T, verbose=0)"
   ]
  },
  {
   "cell_type": "code",
   "execution_count": null,
   "metadata": {},
   "outputs": [],
   "source": [
    "model_ver1.predict_classes()"
   ]
  },
  {
   "cell_type": "code",
   "execution_count": 45,
   "metadata": {},
   "outputs": [
    {
     "name": "stdout",
     "output_type": "stream",
     "text": [
      "Model: \"sequential_15\"\n",
      "_________________________________________________________________\n",
      "Layer (type)                 Output Shape              Param #   \n",
      "=================================================================\n",
      "conv2d_119 (Conv2D)          (None, 124, 211, 24)      624       \n",
      "_________________________________________________________________\n",
      "max_pooling2d_62 (MaxPooling (None, 31, 105, 24)       0         \n",
      "_________________________________________________________________\n",
      "conv2d_120 (Conv2D)          (None, 27, 101, 48)       28848     \n",
      "_________________________________________________________________\n",
      "max_pooling2d_63 (MaxPooling (None, 6, 50, 48)         0         \n",
      "_________________________________________________________________\n",
      "conv2d_121 (Conv2D)          (None, 2, 46, 48)         57648     \n",
      "_________________________________________________________________\n",
      "flatten_1 (Flatten)          (None, 4416)              0         \n",
      "_________________________________________________________________\n",
      "dropout_1 (Dropout)          (None, 4416)              0         \n",
      "_________________________________________________________________\n",
      "dense_1 (Dense)              (None, 64)                282688    \n",
      "_________________________________________________________________\n",
      "dropout_2 (Dropout)          (None, 64)                0         \n",
      "_________________________________________________________________\n",
      "dense_2 (Dense)              (None, 10)                650       \n",
      "=================================================================\n",
      "Total params: 370,458\n",
      "Trainable params: 370,458\n",
      "Non-trainable params: 0\n",
      "_________________________________________________________________\n"
     ]
    }
   ],
   "source": [
    "model_ver1.summary()"
   ]
  },
  {
   "cell_type": "code",
   "execution_count": null,
   "metadata": {},
   "outputs": [],
   "source": [
    "print(X_test_T[1])\n",
    "print(y_test_T[1])"
   ]
  },
  {
   "cell_type": "code",
   "execution_count": null,
   "metadata": {},
   "outputs": [],
   "source": [
    "print(test[1])"
   ]
  },
  {
   "cell_type": "code",
   "execution_count": null,
   "metadata": {},
   "outputs": [],
   "source": []
  },
  {
   "cell_type": "code",
   "execution_count": null,
   "metadata": {},
   "outputs": [],
   "source": [
    "data[key]['melspec']"
   ]
  },
  {
   "cell_type": "code",
   "execution_count": null,
   "metadata": {},
   "outputs": [],
   "source": []
  }
 ],
 "metadata": {
  "kernelspec": {
   "display_name": "Python 3",
   "language": "python",
   "name": "python3"
  },
  "language_info": {
   "codemirror_mode": {
    "name": "ipython",
    "version": 3
   },
   "file_extension": ".py",
   "mimetype": "text/x-python",
   "name": "python",
   "nbconvert_exporter": "python",
   "pygments_lexer": "ipython3",
   "version": "3.7.5"
  }
 },
 "nbformat": 4,
 "nbformat_minor": 2
}
