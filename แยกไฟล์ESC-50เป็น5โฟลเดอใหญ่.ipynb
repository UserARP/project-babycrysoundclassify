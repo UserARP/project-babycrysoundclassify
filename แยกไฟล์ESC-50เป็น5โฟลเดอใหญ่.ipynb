{
 "cells": [
  {
   "cell_type": "code",
   "execution_count": 1,
   "metadata": {},
   "outputs": [],
   "source": [
    "import pandas as pd\n",
    "import numpy as np\n",
    "import os,shutil"
   ]
  },
  {
   "cell_type": "code",
   "execution_count": 2,
   "metadata": {},
   "outputs": [],
   "source": [
    "Data_esc50 = pd.read_csv('C:/Users/ppeng/Documents/AI_babyclassified/meta/esc50.csv')"
   ]
  },
  {
   "cell_type": "code",
   "execution_count": 3,
   "metadata": {},
   "outputs": [
    {
     "data": {
      "text/html": [
       "<div>\n",
       "<style scoped>\n",
       "    .dataframe tbody tr th:only-of-type {\n",
       "        vertical-align: middle;\n",
       "    }\n",
       "\n",
       "    .dataframe tbody tr th {\n",
       "        vertical-align: top;\n",
       "    }\n",
       "\n",
       "    .dataframe thead th {\n",
       "        text-align: right;\n",
       "    }\n",
       "</style>\n",
       "<table border=\"1\" class=\"dataframe\">\n",
       "  <thead>\n",
       "    <tr style=\"text-align: right;\">\n",
       "      <th></th>\n",
       "      <th>filename</th>\n",
       "      <th>fold</th>\n",
       "      <th>target</th>\n",
       "      <th>category</th>\n",
       "      <th>esc10</th>\n",
       "      <th>src_file</th>\n",
       "      <th>take</th>\n",
       "    </tr>\n",
       "  </thead>\n",
       "  <tbody>\n",
       "    <tr>\n",
       "      <th>0</th>\n",
       "      <td>1-100032-A-0.wav</td>\n",
       "      <td>1</td>\n",
       "      <td>0</td>\n",
       "      <td>dog</td>\n",
       "      <td>True</td>\n",
       "      <td>100032</td>\n",
       "      <td>A</td>\n",
       "    </tr>\n",
       "    <tr>\n",
       "      <th>1</th>\n",
       "      <td>1-100038-A-14.wav</td>\n",
       "      <td>1</td>\n",
       "      <td>14</td>\n",
       "      <td>chirping_birds</td>\n",
       "      <td>False</td>\n",
       "      <td>100038</td>\n",
       "      <td>A</td>\n",
       "    </tr>\n",
       "    <tr>\n",
       "      <th>2</th>\n",
       "      <td>1-100210-A-36.wav</td>\n",
       "      <td>1</td>\n",
       "      <td>36</td>\n",
       "      <td>vacuum_cleaner</td>\n",
       "      <td>False</td>\n",
       "      <td>100210</td>\n",
       "      <td>A</td>\n",
       "    </tr>\n",
       "    <tr>\n",
       "      <th>3</th>\n",
       "      <td>1-100210-B-36.wav</td>\n",
       "      <td>1</td>\n",
       "      <td>36</td>\n",
       "      <td>vacuum_cleaner</td>\n",
       "      <td>False</td>\n",
       "      <td>100210</td>\n",
       "      <td>B</td>\n",
       "    </tr>\n",
       "    <tr>\n",
       "      <th>4</th>\n",
       "      <td>1-101296-A-19.wav</td>\n",
       "      <td>1</td>\n",
       "      <td>19</td>\n",
       "      <td>thunderstorm</td>\n",
       "      <td>False</td>\n",
       "      <td>101296</td>\n",
       "      <td>A</td>\n",
       "    </tr>\n",
       "  </tbody>\n",
       "</table>\n",
       "</div>"
      ],
      "text/plain": [
       "            filename  fold  target        category  esc10  src_file take\n",
       "0   1-100032-A-0.wav     1       0             dog   True    100032    A\n",
       "1  1-100038-A-14.wav     1      14  chirping_birds  False    100038    A\n",
       "2  1-100210-A-36.wav     1      36  vacuum_cleaner  False    100210    A\n",
       "3  1-100210-B-36.wav     1      36  vacuum_cleaner  False    100210    B\n",
       "4  1-101296-A-19.wav     1      19    thunderstorm  False    101296    A"
      ]
     },
     "execution_count": 3,
     "metadata": {},
     "output_type": "execute_result"
    }
   ],
   "source": [
    "Data_esc50.head()"
   ]
  },
  {
   "cell_type": "code",
   "execution_count": 4,
   "metadata": {},
   "outputs": [],
   "source": [
    "esc50_grouped = Data_esc50.groupby('category')"
   ]
  },
  {
   "cell_type": "code",
   "execution_count": 5,
   "metadata": {},
   "outputs": [],
   "source": [
    "esc50_rooster = esc50_grouped.get_group('rooster')"
   ]
  },
  {
   "cell_type": "code",
   "execution_count": 6,
   "metadata": {},
   "outputs": [],
   "source": [
    "array_rooster = esc50_rooster.get('filename').array"
   ]
  },
  {
   "cell_type": "code",
   "execution_count": 7,
   "metadata": {},
   "outputs": [
    {
     "data": {
      "text/plain": [
       "<PandasArray>\n",
       "[ '1-26806-A-1.wav',  '1-27724-A-1.wav',  '1-34119-A-1.wav',\n",
       "  '1-34119-B-1.wav',  '1-39923-A-1.wav',  '1-40730-A-1.wav',\n",
       "  '1-43382-A-1.wav',  '1-44831-A-1.wav', '2-100786-A-1.wav',\n",
       "  '2-65750-A-1.wav',  '2-71162-A-1.wav',  '2-81270-A-1.wav',\n",
       "  '2-95035-A-1.wav',  '2-95258-A-1.wav',  '2-95258-B-1.wav',\n",
       "  '2-96460-A-1.wav', '3-107219-A-1.wav', '3-116135-A-1.wav',\n",
       " '3-134049-A-1.wav', '3-137152-A-1.wav', '3-145382-A-1.wav',\n",
       " '3-149189-A-1.wav', '3-154957-A-1.wav', '3-163288-A-1.wav',\n",
       " '4-164021-A-1.wav', '4-164064-A-1.wav', '4-164064-B-1.wav',\n",
       " '4-164064-C-1.wav', '4-164859-A-1.wav', '4-170078-A-1.wav',\n",
       " '4-183487-A-1.wav', '4-208021-A-1.wav', '5-194930-A-1.wav',\n",
       " '5-194930-B-1.wav', '5-200334-A-1.wav', '5-200334-B-1.wav',\n",
       " '5-200339-A-1.wav', '5-233160-A-1.wav', '5-234879-A-1.wav',\n",
       " '5-234879-B-1.wav']\n",
       "Length: 40, dtype: object"
      ]
     },
     "execution_count": 7,
     "metadata": {},
     "output_type": "execute_result"
    }
   ],
   "source": [
    "array_rooster"
   ]
  },
  {
   "cell_type": "code",
   "execution_count": 8,
   "metadata": {},
   "outputs": [],
   "source": [
    "def get_array_group(group_name):\n",
    "    array = esc50_grouped.get_group(group_name)\n",
    "    array_filename = array.get('filename').array\n",
    "    return array_filename"
   ]
  },
  {
   "cell_type": "code",
   "execution_count": 9,
   "metadata": {},
   "outputs": [],
   "source": [
    "array_dog = get_array_group('dog')"
   ]
  },
  {
   "cell_type": "code",
   "execution_count": 10,
   "metadata": {},
   "outputs": [
    {
     "data": {
      "text/plain": [
       "<PandasArray>\n",
       "['1-100032-A-0.wav', '1-110389-A-0.wav',  '1-30226-A-0.wav',\n",
       "  '1-30344-A-0.wav',  '1-32318-A-0.wav',  '1-59513-A-0.wav',\n",
       "  '1-85362-A-0.wav',  '1-97392-A-0.wav', '2-114280-A-0.wav',\n",
       " '2-114587-A-0.wav', '2-116400-A-0.wav', '2-117271-A-0.wav',\n",
       " '2-118072-A-0.wav', '2-118964-A-0.wav', '2-122104-A-0.wav',\n",
       " '2-122104-B-0.wav', '3-136288-A-0.wav', '3-144028-A-0.wav',\n",
       " '3-155312-A-0.wav', '3-157695-A-0.wav', '3-163459-A-0.wav',\n",
       " '3-170015-A-0.wav', '3-180256-A-0.wav', '3-180977-A-0.wav',\n",
       " '4-182395-A-0.wav', '4-183992-A-0.wav', '4-184575-A-0.wav',\n",
       " '4-191687-A-0.wav', '4-192236-A-0.wav', '4-194754-A-0.wav',\n",
       " '4-199261-A-0.wav', '4-207124-A-0.wav', '5-203128-A-0.wav',\n",
       " '5-203128-B-0.wav', '5-208030-A-0.wav', '5-212454-A-0.wav',\n",
       " '5-213855-A-0.wav', '5-217158-A-0.wav', '5-231762-A-0.wav',\n",
       "   '5-9032-A-0.wav']\n",
       "Length: 40, dtype: object"
      ]
     },
     "execution_count": 10,
     "metadata": {},
     "output_type": "execute_result"
    }
   ],
   "source": [
    "array_dog"
   ]
  },
  {
   "cell_type": "code",
   "execution_count": 13,
   "metadata": {},
   "outputs": [],
   "source": [
    "data_path = 'C:/Users/ppeng/Documents/AI_babyclassified/detecting/audio/'"
   ]
  },
  {
   "cell_type": "code",
   "execution_count": 14,
   "metadata": {},
   "outputs": [],
   "source": [
    "def move_file(folder_name,group_name):\n",
    "    os.chdir(folder_name)\n",
    "    group_name_array = get_array_group(group_name)\n",
    "    for group_name_file in group_name_array:\n",
    "        file_path = data_path + group_name_file\n",
    "        shutil.move(file_path,folder_name) #ไฟล์ที่จะเอาไปวาง , ไฟล์ที่จะก็อป\n",
    "    "
   ]
  },
  {
   "cell_type": "code",
   "execution_count": 15,
   "metadata": {},
   "outputs": [],
   "source": [
    "move_file('C:/Users/ppeng/Documents/AI_babyclassified/detecting/animal','rooster')"
   ]
  },
  {
   "cell_type": "code",
   "execution_count": 16,
   "metadata": {},
   "outputs": [],
   "source": [
    "data_path_animal = 'C:/Users/ppeng/Documents/AI_babyclassified/detecting/animal'"
   ]
  },
  {
   "cell_type": "code",
   "execution_count": 17,
   "metadata": {},
   "outputs": [],
   "source": [
    "move_file(data_path_animal,'pig')\n",
    "move_file(data_path_animal,'cow')\n",
    "move_file(data_path_animal,'frog')\n",
    "move_file(data_path_animal,'cat')\n",
    "move_file(data_path_animal,'hen')\n",
    "move_file(data_path_animal,'insects')\n",
    "move_file(data_path_animal,'sheep')\n",
    "move_file(data_path_animal,'crow')\n",
    "## animal sound ##"
   ]
  },
  {
   "cell_type": "code",
   "execution_count": 20,
   "metadata": {},
   "outputs": [],
   "source": [
    "data_sub = 'C:/Users/ppeng/Documents/AI_babyclassified/detecting'\n",
    "data_path_Natural_soundscapes = data_sub + '/Natural soundscapes & water sounds'"
   ]
  },
  {
   "cell_type": "code",
   "execution_count": 21,
   "metadata": {},
   "outputs": [],
   "source": [
    "move_file(data_path_Natural_soundscapes,'rain')"
   ]
  },
  {
   "cell_type": "code",
   "execution_count": 22,
   "metadata": {},
   "outputs": [],
   "source": [
    "def move_all_inarr(folder_name,arr_group_name):\n",
    "    data_path_newfolder = data_sub + '/'+ folder_name\n",
    "    for group_name in arr_group_name:\n",
    "        move_file(data_path_newfolder , group_name)\n",
    "        "
   ]
  },
  {
   "cell_type": "code",
   "execution_count": 23,
   "metadata": {},
   "outputs": [],
   "source": [
    "arr_natural = ['sea_waves','crackling_fire','crickets','chirping_birds','water_drops','wind','pouring_water','toilet_flush','thunderstorm']"
   ]
  },
  {
   "cell_type": "code",
   "execution_count": 24,
   "metadata": {},
   "outputs": [],
   "source": [
    "move_all_inarr('Natural soundscapes & water sounds',arr_natural)"
   ]
  },
  {
   "cell_type": "code",
   "execution_count": 25,
   "metadata": {},
   "outputs": [],
   "source": [
    "arr_human_nonspeech = ['sneezing','clapping','breathing','coughing','footsteps','laughing','brushing_teeth','snoring','drinking_sipping']\n",
    "move_all_inarr('Human, non-speech sounds',arr_human_nonspeech)"
   ]
  },
  {
   "cell_type": "code",
   "execution_count": 26,
   "metadata": {},
   "outputs": [],
   "source": [
    "arr_Interiordomestic_sound = ['door_wood_knock','mouse_click','keyboard_typing','door_wood_creaks','can_opening','washing_machine','vacuum_cleaner','clock_alarm','clock_tick','glass_breaking']\n",
    "move_all_inarr('Interiordomestic sounds',arr_Interiordomestic_sound)"
   ]
  },
  {
   "cell_type": "code",
   "execution_count": 27,
   "metadata": {},
   "outputs": [],
   "source": [
    "arr_babycry = ['crying_baby']\n",
    "move_all_inarr('babycry',arr_babycry)"
   ]
  },
  {
   "cell_type": "code",
   "execution_count": 7,
   "metadata": {},
   "outputs": [],
   "source": []
  },
  {
   "cell_type": "code",
   "execution_count": 11,
   "metadata": {},
   "outputs": [
    {
     "ename": "AttributeError",
     "evalue": "Cannot access callable attribute 'get' of 'DataFrameGroupBy' objects, try using the 'apply' method",
     "output_type": "error",
     "traceback": [
      "\u001b[1;31m---------------------------------------------------------------------------\u001b[0m",
      "\u001b[1;31mAttributeError\u001b[0m                            Traceback (most recent call last)",
      "\u001b[1;32m<ipython-input-11-bf6f7e5d4078>\u001b[0m in \u001b[0;36m<module>\u001b[1;34m\u001b[0m\n\u001b[1;32m----> 1\u001b[1;33m \u001b[0mesc50_grouped\u001b[0m\u001b[1;33m.\u001b[0m\u001b[0mget\u001b[0m\u001b[1;33m(\u001b[0m\u001b[1;34m'fold1'\u001b[0m\u001b[1;33m)\u001b[0m\u001b[1;33m\u001b[0m\u001b[1;33m\u001b[0m\u001b[0m\n\u001b[0m",
      "\u001b[1;32mD:\\anaconda\\envs\\PlayGround\\lib\\site-packages\\pandas\\core\\groupby\\groupby.py\u001b[0m in \u001b[0;36m__getattr__\u001b[1;34m(self, attr)\u001b[0m\n\u001b[0;32m    561\u001b[0m             \u001b[1;32mreturn\u001b[0m \u001b[0mself\u001b[0m\u001b[1;33m[\u001b[0m\u001b[0mattr\u001b[0m\u001b[1;33m]\u001b[0m\u001b[1;33m\u001b[0m\u001b[1;33m\u001b[0m\u001b[0m\n\u001b[0;32m    562\u001b[0m         \u001b[1;32mif\u001b[0m \u001b[0mhasattr\u001b[0m\u001b[1;33m(\u001b[0m\u001b[0mself\u001b[0m\u001b[1;33m.\u001b[0m\u001b[0mobj\u001b[0m\u001b[1;33m,\u001b[0m \u001b[0mattr\u001b[0m\u001b[1;33m)\u001b[0m\u001b[1;33m:\u001b[0m\u001b[1;33m\u001b[0m\u001b[1;33m\u001b[0m\u001b[0m\n\u001b[1;32m--> 563\u001b[1;33m             \u001b[1;32mreturn\u001b[0m \u001b[0mself\u001b[0m\u001b[1;33m.\u001b[0m\u001b[0m_make_wrapper\u001b[0m\u001b[1;33m(\u001b[0m\u001b[0mattr\u001b[0m\u001b[1;33m)\u001b[0m\u001b[1;33m\u001b[0m\u001b[1;33m\u001b[0m\u001b[0m\n\u001b[0m\u001b[0;32m    564\u001b[0m \u001b[1;33m\u001b[0m\u001b[0m\n\u001b[0;32m    565\u001b[0m         raise AttributeError(\n",
      "\u001b[1;32mD:\\anaconda\\envs\\PlayGround\\lib\\site-packages\\pandas\\core\\groupby\\groupby.py\u001b[0m in \u001b[0;36m_make_wrapper\u001b[1;34m(self, name)\u001b[0m\n\u001b[0;32m    602\u001b[0m                 \u001b[1;34m\"using the 'apply' method\"\u001b[0m\u001b[1;33m.\u001b[0m\u001b[0mformat\u001b[0m\u001b[1;33m(\u001b[0m\u001b[0mkind\u001b[0m\u001b[1;33m,\u001b[0m \u001b[0mname\u001b[0m\u001b[1;33m,\u001b[0m \u001b[0mtype\u001b[0m\u001b[1;33m(\u001b[0m\u001b[0mself\u001b[0m\u001b[1;33m)\u001b[0m\u001b[1;33m.\u001b[0m\u001b[0m__name__\u001b[0m\u001b[1;33m)\u001b[0m\u001b[1;33m\u001b[0m\u001b[1;33m\u001b[0m\u001b[0m\n\u001b[0;32m    603\u001b[0m             )\n\u001b[1;32m--> 604\u001b[1;33m             \u001b[1;32mraise\u001b[0m \u001b[0mAttributeError\u001b[0m\u001b[1;33m(\u001b[0m\u001b[0mmsg\u001b[0m\u001b[1;33m)\u001b[0m\u001b[1;33m\u001b[0m\u001b[1;33m\u001b[0m\u001b[0m\n\u001b[0m\u001b[0;32m    605\u001b[0m \u001b[1;33m\u001b[0m\u001b[0m\n\u001b[0;32m    606\u001b[0m         \u001b[0mself\u001b[0m\u001b[1;33m.\u001b[0m\u001b[0m_set_group_selection\u001b[0m\u001b[1;33m(\u001b[0m\u001b[1;33m)\u001b[0m\u001b[1;33m\u001b[0m\u001b[1;33m\u001b[0m\u001b[0m\n",
      "\u001b[1;31mAttributeError\u001b[0m: Cannot access callable attribute 'get' of 'DataFrameGroupBy' objects, try using the 'apply' method"
     ]
    }
   ],
   "source": []
  },
  {
   "cell_type": "code",
   "execution_count": null,
   "metadata": {},
   "outputs": [],
   "source": []
  }
 ],
 "metadata": {
  "kernelspec": {
   "display_name": "Python 3",
   "language": "python",
   "name": "python3"
  },
  "language_info": {
   "codemirror_mode": {
    "name": "ipython",
    "version": 3
   },
   "file_extension": ".py",
   "mimetype": "text/x-python",
   "name": "python",
   "nbconvert_exporter": "python",
   "pygments_lexer": "ipython3",
   "version": "3.7.5"
  }
 },
 "nbformat": 4,
 "nbformat_minor": 2
}
